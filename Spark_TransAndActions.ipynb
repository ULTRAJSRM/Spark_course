{
 "cells": [
  {
   "cell_type": "code",
   "execution_count": 1,
   "metadata": {},
   "outputs": [],
   "source": []
  },
  {
   "cell_type": "code",
   "execution_count": 1,
   "metadata": {},
   "outputs": [],
   "source": [
    "# Libraries\n",
    "from pyspark import SparkContext"
   ]
  },
  {
   "cell_type": "code",
   "execution_count": 2,
   "metadata": {},
   "outputs": [],
   "source": [
    "sc = SparkContext(master='local', appName='TransformationsAndActions')"
   ]
  },
  {
   "cell_type": "code",
   "execution_count": 3,
   "metadata": {},
   "outputs": [
    {
     "data": {
      "text/plain": [
       "pyspark.rdd.RDD"
      ]
     },
     "execution_count": 3,
     "metadata": {},
     "output_type": "execute_result"
    }
   ],
   "source": [
    "rdd1 = sc.parallelize([1,2,3])\n",
    "# In is important to check the datatype.\n",
    "type(rdd1)"
   ]
  },
  {
   "cell_type": "code",
   "execution_count": 4,
   "metadata": {},
   "outputs": [
    {
     "data": {
      "text/plain": [
       "[1, 2, 3]"
      ]
     },
     "execution_count": 4,
     "metadata": {},
     "output_type": "execute_result"
    }
   ],
   "source": [
    "# To vizualice and collect the data\n",
    "rdd1.collect()"
   ]
  },
  {
   "cell_type": "code",
   "execution_count": 5,
   "metadata": {},
   "outputs": [
    {
     "data": {
      "text/html": [
       "\n",
       "        <div>\n",
       "            <p><b>SparkContext</b></p>\n",
       "\n",
       "            <p><a href=\"http://192.168.1.66:4040\">Spark UI</a></p>\n",
       "\n",
       "            <dl>\n",
       "              <dt>Version</dt>\n",
       "                <dd><code>v3.0.1</code></dd>\n",
       "              <dt>Master</dt>\n",
       "                <dd><code>local</code></dd>\n",
       "              <dt>AppName</dt>\n",
       "                <dd><code>TransformationsAndActions</code></dd>\n",
       "            </dl>\n",
       "        </div>\n",
       "        "
      ],
      "text/plain": [
       "<SparkContext master=local appName=TransformationsAndActions>"
      ]
     },
     "execution_count": 5,
     "metadata": {},
     "output_type": "execute_result"
    }
   ],
   "source": [
    "# To see that the first Job was successful we can use SparkUI\n",
    "sc"
   ]
  },
  {
   "cell_type": "code",
   "execution_count": 6,
   "metadata": {},
   "outputs": [
    {
     "name": "stdout",
     "output_type": "stream",
     "text": [
      "deporte.csv\t deportistaError.csv  modelo_relacional.jpg\n",
      "deportista2.csv  evento.csv\t      paises.csv\n",
      "deportista.csv\t juegos.csv\t      resultados.csv\n"
     ]
    }
   ],
   "source": [
    "# reading the path where is the data\n",
    "# Linux commands inside Anaconda\n",
    "!ls /home/lastorder/Documents/curso-apache-spark-platzi/files\n"
   ]
  },
  {
   "cell_type": "code",
   "execution_count": 7,
   "metadata": {},
   "outputs": [],
   "source": [
    "path = \"/home/lastorder/Documents/curso-apache-spark-platzi/files/\""
   ]
  },
  {
   "cell_type": "code",
   "execution_count": 8,
   "metadata": {},
   "outputs": [],
   "source": [
    "# Creating our first RDD\n",
    "OlimpicTeamsRDD = sc.textFile(path+\"paises.csv\")\\\n",
    "    .map(lambda line : line.split(\",\"))"
   ]
  },
  {
   "cell_type": "code",
   "execution_count": 9,
   "metadata": {},
   "outputs": [
    {
     "data": {
      "text/plain": [
       "[['id', 'equipo', 'sigla'],\n",
       " ['1', '30. Februar', 'AUT'],\n",
       " ['2', 'A North American Team', 'MEX'],\n",
       " ['3', 'Acipactli', 'MEX'],\n",
       " ['4', 'Acturus', 'ARG'],\n",
       " ['5', 'Afghanistan', 'AFG'],\n",
       " ['6', 'Akatonbo', 'IRL'],\n",
       " ['7', 'Alain IV', 'SUI'],\n",
       " ['8', 'Albania', 'ALB'],\n",
       " ['9', 'Alcaid', 'POR'],\n",
       " ['10', 'Alcyon-6', 'FRA'],\n",
       " ['11', 'Alcyon-7', 'FRA'],\n",
       " ['12', 'Aldebaran', 'ITA'],\n",
       " ['13', 'Aldebaran II', 'ITA'],\n",
       " ['14', 'Aletta', 'IRL']]"
      ]
     },
     "execution_count": 9,
     "metadata": {},
     "output_type": "execute_result"
    }
   ],
   "source": [
    "# Take will show us an specific number of lines\n",
    "OlimpicTeamsRDD.take(15)"
   ]
  },
  {
   "cell_type": "code",
   "execution_count": 11,
   "metadata": {},
   "outputs": [
    {
     "data": {
      "text/plain": [
       "231"
      ]
     },
     "execution_count": 11,
     "metadata": {},
     "output_type": "execute_result"
    }
   ],
   "source": [
    "# To count how many countries we have.\n",
    "# To select the country acronyms, we need to select the third column index:[0,1,2]\n",
    "# Similar to SQL, we use COUNT DISTINCT and select the column we need with a lambda\n",
    "OlimpicTeamsRDD.map(lambda x: (x[2])).distinct().count()\n"
   ]
  },
  {
   "cell_type": "code",
   "execution_count": 12,
   "metadata": {},
   "outputs": [
    {
     "data": {
      "text/plain": [
       "[('sigla', 1), ('AUT', 11), ('MEX', 9), ('ARG', 18), ('AFG', 1)]"
      ]
     },
     "execution_count": 12,
     "metadata": {},
     "output_type": "execute_result"
    }
   ],
   "source": [
    "# Spark group all the data in a key-value format\n",
    "# the first value of the lambda will be the key value(x[2])(the value spark will use to group the data)\n",
    "# If we use len in mapvalues, Spark will show us the number of elements of the group list.\n",
    "OlimpicTeamsRDD.map(lambda x : (x[2],x[1])).groupByKey().mapValues(len).take(5)"
   ]
  },
  {
   "cell_type": "code",
   "execution_count": 13,
   "metadata": {},
   "outputs": [
    {
     "data": {
      "text/plain": [
       "[('sigla', ['equipo']),\n",
       " ('AUT',\n",
       "  ['30. Februar',\n",
       "   'Austria',\n",
       "   'Austria-1',\n",
       "   'Austria-2',\n",
       "   'Breslau',\n",
       "   'Brigantia',\n",
       "   'Donar III',\n",
       "   'Evita VI',\n",
       "   'May-Be 1960',\n",
       "   '\"R.-V. Germania; Leitmeritz\"',\n",
       "   'Surprise']),\n",
       " ('MEX',\n",
       "  ['A North American Team',\n",
       "   'Acipactli',\n",
       "   'Chamukina',\n",
       "   'Mexico',\n",
       "   'Mexico-1',\n",
       "   'Mexico-2',\n",
       "   'Nausikaa 4',\n",
       "   'Tlaloc',\n",
       "   'Xolotl']),\n",
       " ('ARG',\n",
       "  ['Acturus',\n",
       "   'Antares',\n",
       "   'Arcturus',\n",
       "   'Ardilla',\n",
       "   'Argentina',\n",
       "   'Argentina-1',\n",
       "   'Argentina-2',\n",
       "   'Blue Red',\n",
       "   'Covunco III',\n",
       "   'Cupidon III',\n",
       "   'Djinn',\n",
       "   'Gullvinge',\n",
       "   'Matrero II',\n",
       "   'Mizar',\n",
       "   'Pampero',\n",
       "   'Rampage',\n",
       "   'Tango',\n",
       "   'Wiking']),\n",
       " ('AFG', ['Afghanistan'])]"
      ]
     },
     "execution_count": 13,
     "metadata": {},
     "output_type": "execute_result"
    }
   ],
   "source": [
    "# If we use list in mapvalues, Spark will show us a list with all the values of the group\n",
    "OlimpicTeamsRDD.map(lambda x : (x[2],x[1])).groupByKey().mapValues(list).take(5)"
   ]
  },
  {
   "cell_type": "code",
   "execution_count": 15,
   "metadata": {},
   "outputs": [
    {
     "data": {
      "text/plain": [
       "[['4', 'Acturus', 'ARG'],\n",
       " ['37', 'Antares', 'ARG'],\n",
       " ['42', 'Arcturus', 'ARG'],\n",
       " ['43', 'Ardilla', 'ARG'],\n",
       " ['45', 'Argentina', 'ARG'],\n",
       " ['46', 'Argentina-1', 'ARG'],\n",
       " ['47', 'Argentina-2', 'ARG'],\n",
       " ['119', 'Blue Red', 'ARG'],\n",
       " ['238', 'Covunco III', 'ARG'],\n",
       " ['252', 'Cupidon III', 'ARG'],\n",
       " ['288', 'Djinn', 'ARG'],\n",
       " ['436', 'Gullvinge', 'ARG'],\n",
       " ['644', 'Matrero II', 'ARG'],\n",
       " ['672', 'Mizar', 'ARG'],\n",
       " ['774', 'Pampero', 'ARG'],\n",
       " ['843', 'Rampage', 'ARG'],\n",
       " ['1031', 'Tango', 'ARG'],\n",
       " ['1162', 'Wiking', 'ARG']]"
      ]
     },
     "execution_count": 15,
     "metadata": {},
     "output_type": "execute_result"
    }
   ],
   "source": [
    "# NOTE!!: the Use of Collect is not a good practice because when you use it, collect all the data around the\n",
    "# all the clusters in the system (all computers that are running spark), so if you had a lot of RDDs with\n",
    "# TB of data, collect will capture all that data from all the CPUS and it will send it to the Spark Driver\n",
    "# (the central computer), that can couse several problems to the system.\n",
    "\n",
    "ArgTeams = OlimpicTeamsRDD.filter(lambda l : 'ARG' in l)\n",
    "ArgTeams.collect()\n",
    "\n",
    "# NEVER USE COLLECT UNTIL YOU KNOW THAT THE DATA IS LOCAL AND SMALL !!"
   ]
  },
  {
   "cell_type": "code",
   "execution_count": 16,
   "metadata": {},
   "outputs": [
    {
     "data": {
      "text/plain": [
       "1185"
      ]
     },
     "execution_count": 16,
     "metadata": {},
     "output_type": "execute_result"
    }
   ],
   "source": [
    "# Count might take several minutes if the Data is really big, in that cases we can use countApprox\n",
    "OlimpicTeamsRDD.count()"
   ]
  },
  {
   "cell_type": "code",
   "execution_count": 17,
   "metadata": {},
   "outputs": [
    {
     "data": {
      "text/plain": [
       "1185"
      ]
     },
     "execution_count": 17,
     "metadata": {},
     "output_type": "execute_result"
    }
   ],
   "source": [
    "# countApprox will take a maximum num of second before end the process, if the process end before the number\n",
    "# of second we give it then it will show the result in that moment.\n",
    "# If the time ends and the process is still runing, then it will show us the total count until that moment\n",
    "OlimpicTeamsRDD.countApprox(20)"
   ]
  },
  {
   "cell_type": "code",
   "execution_count": 18,
   "metadata": {},
   "outputs": [
    {
     "name": "stdout",
     "output_type": "stream",
     "text": [
      "deporte.csv\t deportistaError.csv  modelo_relacional.jpg\n",
      "deportista2.csv  evento.csv\t      paises.csv\n",
      "deportista.csv\t juegos.csv\t      resultados.csv\n"
     ]
    }
   ],
   "source": [
    "!ls /home/lastorder/Documents/curso-apache-spark-platzi/files"
   ]
  },
  {
   "cell_type": "code",
   "execution_count": 19,
   "metadata": {},
   "outputs": [],
   "source": [
    "# Exporting 2 RDDs, the first one contains the header and the second one contains the data.\n",
    "OlimpicAthleteRDD = sc.textFile(path+'deportista.csv').map(lambda l : l.split(','))\n",
    "OlimpicAthleteRDD2 = sc.textFile(path+'deportista2.csv').map(lambda l : l.split(','))\n",
    "\n",
    "# To make a union between the RDDs we can use:\n",
    "OlimpicAthleteRDD = OlimpicAthleteRDD.union(OlimpicAthleteRDD2)\n"
   ]
  },
  {
   "cell_type": "code",
   "execution_count": 20,
   "metadata": {},
   "outputs": [
    {
     "data": {
      "text/plain": [
       "135572"
      ]
     },
     "execution_count": 20,
     "metadata": {},
     "output_type": "execute_result"
    }
   ],
   "source": [
    "# To make sure that the data is not corrupted, we can use count() to verify that spark is working correctly\n",
    "# with that data\n",
    "OlimpicAthleteRDD.count()"
   ]
  },
  {
   "cell_type": "code",
   "execution_count": 21,
   "metadata": {},
   "outputs": [
    {
     "data": {
      "text/plain": [
       "[['deportista_id', 'nombre', 'genero', 'edad', 'altura', 'peso', 'equipo_id'],\n",
       " ['99999', 'Alexander Grant Alick Rennie', '1', '32', '182', '71', '967'],\n",
       " ['99998', 'Robert John Bob Renney', '1', '21', '178', '90', '66'],\n",
       " ['99997', 'Thomas Renner', '1', '24', '183', '86', '71'],\n",
       " ['99996', 'Sara Renner', '2', '21', '168', '63', '174'],\n",
       " ['99995', 'Robert Renner', '1', '22', '182', '75', '944'],\n",
       " ['99994', 'Peter Campbell Renner', '1', '24', '186', '75', '716'],\n",
       " ['99993', 'Ingeborg Renner', '2', '22', '168', '60', '1150'],\n",
       " ['99992', 'Karlheinz Heinz Renneberg', '1', '25', '182', '87', '399'],\n",
       " ['99991', 'Paul Wisner Renne', '1', '24', '177', '73', '1096']]"
      ]
     },
     "execution_count": 21,
     "metadata": {},
     "output_type": "execute_result"
    }
   ],
   "source": [
    "# To see the first 10 rows of the RDD, we use top function (similar to SQL)\n",
    "OlimpicAthleteRDD.top(10)"
   ]
  },
  {
   "cell_type": "code",
   "execution_count": 22,
   "metadata": {},
   "outputs": [
    {
     "data": {
      "text/plain": [
       "[['id', 'equipo', 'sigla'],\n",
       " ['999', 'Stella-2', 'NOR'],\n",
       " ['998', 'State VI', 'CAN'],\n",
       " ['997', 'Starlight III', 'GBR'],\n",
       " ['996', 'Starita', 'NED'],\n",
       " ['995', 'Stade Franais AC-2', 'FRA'],\n",
       " ['994', 'St. Rose-2', 'USA'],\n",
       " ['993', 'St. Margrite', 'NED'],\n",
       " ['992', 'St. Louis Southwest Turnverein #2-3', 'USA'],\n",
       " ['991', 'St. Louis Southwest Turnverein #1-2', 'USA']]"
      ]
     },
     "execution_count": 22,
     "metadata": {},
     "output_type": "execute_result"
    }
   ],
   "source": [
    "OlimpicTeamsRDD.top(10)"
   ]
  },
  {
   "cell_type": "code",
   "execution_count": 23,
   "metadata": {},
   "outputs": [
    {
     "data": {
      "text/plain": [
       "[('199', (['1', 'A Dijiang', '1', '24', '180', '80'], 'CHN')),\n",
       " ('199', (['2', 'A Lamusi', '1', '23', '170', '60'], 'CHN')),\n",
       " ('199', (['602', 'Abudoureheman', '1', '22', '182', '75'], 'CHN')),\n",
       " ('199', (['1463', 'Ai Linuer', '1', '25', '160', '62'], 'CHN')),\n",
       " ('199', (['1464', 'Ai Yanhan', '2', '14', '168', '54'], 'CHN')),\n",
       " ('199', (['3605', 'An Weijiang', '1', '22', '178', '72'], 'CHN')),\n",
       " ('199', (['3610', 'An Yulong', '1', '19', '173', '70'], 'CHN')),\n",
       " ('199', (['3611', 'An Zhongxin', '2', '23', '170', '65'], 'CHN')),\n",
       " ('199', (['4639', 'Ao Changrong', '1', '25', '173', '71'], 'CHN')),\n",
       " ('199', (['4641', 'Ao Tegen', '1', '21', '181', '90'], 'CHN'))]"
      ]
     },
     "execution_count": 23,
     "metadata": {},
     "output_type": "execute_result"
    }
   ],
   "source": [
    "# To make a JOIN we select the key value to make de join (the first value in the lambda)\n",
    "# and the rest of the columns we need, we can use take to see if the join was successful\n",
    "OlimpicAthleteRDD.map(lambda l: [l[-1],l[:-1]]) \\\n",
    "    .join(OlimpicTeamsRDD.map(lambda x: [x[0],x[2]])).take(10)"
   ]
  },
  {
   "cell_type": "code",
   "execution_count": 24,
   "metadata": {},
   "outputs": [
    {
     "data": {
      "text/plain": [
       "[('273',\n",
       "  (['56134', 'Niels Christian Kold Jrgensen', '1', '21', '0', '0'], 'DEN')),\n",
       " ('624', (['13109', 'Harry Arthur Bonavia', '1', '20', '0', '0'], 'MLT')),\n",
       " ('399', (['98241', 'Eberhard Radzik', '1', '25', '168', '75'], 'GER')),\n",
       " ('96', (['83781', 'Albert Muylle', '1', '0', '0', '0'], 'BEL')),\n",
       " ('1096',\n",
       "  (['101476', 'Clarence Franklin Robison', '1', '25', '192', '77'], 'USA')),\n",
       " ('967', (['18615', 'Lesley Carstens', '2', '27', '0', '0'], 'RSA')),\n",
       " ('362', (['78848', 'mile Mercier', '1', '0', '0', '0'], 'FRA')),\n",
       " ('810',\n",
       "  (['94563', 'Andrzej Ryszard Pitkowski', '1', '22', '169', '68'], 'POL')),\n",
       " ('1096', (['114820', 'Jerome Steinert', '1', '28', '0', '0'], 'USA')),\n",
       " ('576', (['32099', 'Assaf ElMurr', '1', '24', '0', '0'], 'LIB'))]"
      ]
     },
     "execution_count": 24,
     "metadata": {},
     "output_type": "execute_result"
    }
   ],
   "source": [
    "# Another form to see a more representative sample of the JOIN is with takeSample function\n",
    "# takeSample will take a random sample of the RDD with certains parameters\n",
    "# the first paramneter is to set if we want to see repetitive values (True or False)\n",
    "# the second parameter set the number of rows to show\n",
    "# the third parameter is to set a random seed, to initialize the random process\n",
    "OlimpicAthleteRDD.map(lambda l: [l[-1],l[:-1]]) \\\n",
    "    .join(OlimpicTeamsRDD.map(lambda x: [x[0],x[2]])).takeSample(False,10,25)"
   ]
  },
  {
   "cell_type": "code",
   "execution_count": 25,
   "metadata": {},
   "outputs": [],
   "source": [
    "# Importing a new RDD with the results of the olimpic\n",
    "results = sc.textFile(path+'resultados.csv').map(lambda l : l.split(','))"
   ]
  },
  {
   "cell_type": "code",
   "execution_count": 26,
   "metadata": {},
   "outputs": [],
   "source": [
    "# Making a new RDDs with filtering only the results with a metal (results different to NA)\n",
    "WinnerResults = results.filter(lambda l: 'NA' not in l[1])"
   ]
  },
  {
   "cell_type": "code",
   "execution_count": 27,
   "metadata": {},
   "outputs": [
    {
     "data": {
      "text/plain": [
       "[['resultado_id', 'medalla', 'deportista_id', 'juego_id', 'evento_id'],\n",
       " ['4', 'Gold', '4', '2', '4'],\n",
       " ['38', 'Bronze', '15', '7', '19'],\n",
       " ['39', 'Bronze', '15', '7', '20'],\n",
       " ['41', 'Bronze', '16', '50', '14'],\n",
       " ['42', 'Bronze', '17', '17', '21'],\n",
       " ['43', 'Gold', '17', '17', '22'],\n",
       " ['45', 'Gold', '17', '17', '24'],\n",
       " ['49', 'Gold', '17', '17', '28'],\n",
       " ['51', 'Bronze', '17', '19', '22']]"
      ]
     },
     "execution_count": 27,
     "metadata": {},
     "output_type": "execute_result"
    }
   ],
   "source": [
    "# checking the results\n",
    "WinnerResults.take(10)"
   ]
  },
  {
   "cell_type": "code",
   "execution_count": 28,
   "metadata": {},
   "outputs": [],
   "source": [
    "AthleteCountry = OlimpicAthleteRDD.map(lambda l: [l[-1],l[:-1]]) \\\n",
    "    .join(OlimpicTeamsRDD.map(lambda x: [x[0],x[2]]))"
   ]
  },
  {
   "cell_type": "code",
   "execution_count": 29,
   "metadata": {},
   "outputs": [
    {
     "data": {
      "text/plain": [
       "[('999', (['92679', 'Trygve Bjarne Pedersen', '1', '35', '0', '0'], 'NOR')),\n",
       " ('999', (['1144', 'Henrik Agersborg', '1', '47', '0', '0'], 'NOR')),\n",
       " ('999', (['10765', 'Einar Berntsen', '1', '28', '0', '0'], 'NOR')),\n",
       " ('998',\n",
       "  (['111659', 'G. Bernard Bernie Skinner', '1', '34', '182', '82'], 'CAN')),\n",
       " ('996', (['116030', 'Edward Eddy Stutterheim', '1', '39', '0', '0'], 'NED')),\n",
       " ('995', (['71728', 'Gordon Frederick Love', '1', '26', '0', '0'], 'FRA')),\n",
       " ('995', (['101553', 'Louis Roche', '1', '0', '0', '0'], 'FRA')),\n",
       " ('994', (['87856', 'Leo Anthony O Connell', '1', '20', '0', '0'], 'USA')),\n",
       " ('994', (['55319', 'Johnson', '1', '0', '0', '0'], 'USA')),\n",
       " ('994', (['53520', 'Henry Wood Jameson', '1', '21', '0', '0'], 'USA'))]"
      ]
     },
     "execution_count": 29,
     "metadata": {},
     "output_type": "execute_result"
    }
   ],
   "source": [
    "AthleteCountry.top(10)"
   ]
  },
  {
   "cell_type": "code",
   "execution_count": null,
   "metadata": {},
   "outputs": [],
   "source": []
  },
  {
   "cell_type": "code",
   "execution_count": null,
   "metadata": {},
   "outputs": [],
   "source": [
    "sc.stop()"
   ]
  }
 ],
 "metadata": {
  "kernelspec": {
   "display_name": "Python 3",
   "language": "python",
   "name": "python3"
  },
  "language_info": {
   "codemirror_mode": {
    "name": "ipython",
    "version": 3
   },
   "file_extension": ".py",
   "mimetype": "text/x-python",
   "name": "python",
   "nbconvert_exporter": "python",
   "pygments_lexer": "ipython3",
   "version": "3.8.3"
  }
 },
 "nbformat": 4,
 "nbformat_minor": 4
}
